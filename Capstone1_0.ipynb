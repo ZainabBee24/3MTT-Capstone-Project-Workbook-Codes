{
  "cells": [
    {
      "cell_type": "markdown",
      "metadata": {
        "id": "rIC3Ii3PIiXT"
      },
      "source": [
        "A zip file of the dataset for this project which contains five to six different CSV files was downloaded from Kaggle. Two out of the datasets were picked for this project and uploaded to Google drive. From the drive the datasets are easily uploaded into this notebook. To begin the task pandas is imported to ensure efficient performance of the tasks on the notebook"
      ]
    },
    {
      "cell_type": "code",
      "execution_count": null,
      "metadata": {
        "id": "2P8d70aZ9z8S"
      },
      "outputs": [],
      "source": [
        "import pandas as pd"
      ]
    },
    {
      "cell_type": "markdown",
      "metadata": {
        "id": "8SPlsYgrIyzU"
      },
      "source": [
        "The first dataset titled 'covid19 clean complete' is imported into the notebook with a read CSV command"
      ]
    },
    {
      "cell_type": "code",
      "execution_count": null,
      "metadata": {
        "id": "5O0YDqXy_yK5"
      },
      "outputs": [],
      "source": [
        "df1 = pd.read_csv('/content/drive/MyDrive/Data2/Capstone/Capstone 2/covid_19_clean_complete.csv')\n",
        "df1"
      ]
    },
    {
      "cell_type": "code",
      "execution_count": null,
      "metadata": {
        "id": "DAp5PptkRRkP"
      },
      "outputs": [],
      "source": [
        "df1.isna().sum()"
      ]
    },
    {
      "cell_type": "markdown",
      "metadata": {
        "id": "U75oKLeXJDLW"
      },
      "source": [
        "To check the dataset shape and content,the sum of null values, the dataset info, the sum of duplicated row, are checked using the following codes individually"
      ]
    },
    {
      "cell_type": "code",
      "execution_count": null,
      "metadata": {
        "id": "4qc7vJXRpaBF"
      },
      "outputs": [],
      "source": [
        "df1.info()"
      ]
    },
    {
      "cell_type": "code",
      "execution_count": null,
      "metadata": {
        "id": "3Ap4MusFpl1q"
      },
      "outputs": [],
      "source": [
        "#Check for duplicates\n",
        "df1.duplicated().sum()"
      ]
    },
    {
      "cell_type": "markdown",
      "metadata": {
        "id": "HxShnUo7JnaO"
      },
      "source": [
        "To get rid of unwanted or useless columns the columns were inspected"
      ]
    },
    {
      "cell_type": "code",
      "execution_count": null,
      "metadata": {
        "id": "Z1OB7mOwowV6"
      },
      "outputs": [],
      "source": [
        "df1.columns"
      ]
    },
    {
      "cell_type": "markdown",
      "metadata": {
        "id": "J7r5Cl6JKDq-"
      },
      "source": [
        "Upon checking the columns and studying the dataset insignificant columns with high number of null values were dropped"
      ]
    },
    {
      "cell_type": "code",
      "execution_count": null,
      "metadata": {
        "id": "jTbgDwgjAOzI"
      },
      "outputs": [],
      "source": [
        "#drop columns\n",
        "df1.drop(columns=['Province/State', 'Confirmed', 'Deaths', 'Recovered', 'Active'], inplace=True, errors='ignore')"
      ]
    },
    {
      "cell_type": "markdown",
      "metadata": {
        "id": "eLp_izcmKRVh"
      },
      "source": [
        "Checking the head regularly to ensure all commands runned are effective"
      ]
    },
    {
      "cell_type": "code",
      "execution_count": null,
      "metadata": {
        "id": "Rql_jTLLo7mS"
      },
      "outputs": [],
      "source": [
        "df1.head(2)"
      ]
    },
    {
      "cell_type": "markdown",
      "metadata": {
        "id": "MOanv7tvKf3k"
      },
      "source": [
        "Using the following codes whitespaces are stripped, and also to ensure consistency all capitalizations standardized.\n",
        "To further ensure consistent flow of the data unique values along the country / region columns were checked."
      ]
    },
    {
      "cell_type": "code",
      "execution_count": null,
      "metadata": {
        "id": "dJw5rsCzrnod"
      },
      "outputs": [],
      "source": [
        "# Strip whitespace and standardize capitalization\n",
        "df1['Country/Region'] = df1['Country/Region'].str.strip().str.title()\n",
        "\n",
        "# Check unique values for inconsistencies\n",
        "print(df1['Country/Region'].unique())"
      ]
    },
    {
      "cell_type": "markdown",
      "metadata": {
        "id": "HCcnP78dLAKS"
      },
      "source": [
        "The next step is to check for non-numeric values in numeric columns, to check and drop missing and out of range values where necessary in the latitude and longitude columns."
      ]
    },
    {
      "cell_type": "code",
      "execution_count": null,
      "metadata": {
        "id": "VtlNLSlysVvq"
      },
      "outputs": [],
      "source": [
        "# Check for non-numeric values\n",
        "print(df1[['Lat', 'Long']].dtypes)\n",
        "\n",
        "# Convert to float if necessary\n",
        "df1['Lat'] = pd.to_numeric(df1['Lat'], errors='coerce')\n",
        "df1['Long'] = pd.to_numeric(df1['Long'], errors='coerce')\n",
        "\n",
        "# Drop or impute missing/out-of-range values\n",
        "df1 = df1[(df1['Lat'].between(-90, 90)) & (df1['Long'].between(-180, 180))]"
      ]
    },
    {
      "cell_type": "markdown",
      "metadata": {
        "id": "dXZkh3kEL0GV"
      },
      "source": [
        "By assigning new variable df1_numeric a code is run to ensure all other numeric columns are numeric.\n",
        "And then the columns converted to integer to reduce overcrowding and too much noise in the data"
      ]
    },
    {
      "cell_type": "code",
      "execution_count": null,
      "metadata": {
        "id": "1GrFc9HSdCk_"
      },
      "outputs": [],
      "source": [
        "# Ensure all numeric columns are numeric\n",
        "df1_numeric = df1.select_dtypes(include=['number'])\n",
        "\n",
        "# Convert columns in df1_numeric to int\n",
        "df1_numeric = df1_numeric.astype(int)"
      ]
    },
    {
      "cell_type": "markdown",
      "metadata": {
        "id": "Vhr-vs69MOXy"
      },
      "source": [
        "The dataset description is checked after the conversion to ensure effectivity"
      ]
    },
    {
      "cell_type": "code",
      "execution_count": null,
      "metadata": {
        "id": "sJNcJo0kdkLP"
      },
      "outputs": [],
      "source": [
        "df1.describe()"
      ]
    },
    {
      "cell_type": "markdown",
      "metadata": {
        "id": "Oncn9dMBMXPr"
      },
      "source": [
        "The date column need to be converted to datetime format. A new column is created by copying the data from the date column and converted into the date time format. The previous date column is then dropped."
      ]
    },
    {
      "cell_type": "code",
      "execution_count": null,
      "metadata": {
        "id": "p_7Qmonys0PI"
      },
      "outputs": [],
      "source": [
        "# Convert to datetime\n",
        "df1['Date'] = pd.to_datetime(df1['Date'], errors='coerce')\n",
        "\n",
        "# Drop rows with invalid dates\n",
        "df1 = df1.dropna(subset=['Date'])\n",
        "\n",
        "# Ensure dates are within a reasonable range\n",
        "print(df1['Date'].min(), df1['Date'].max())"
      ]
    },
    {
      "cell_type": "code",
      "execution_count": null,
      "metadata": {
        "id": "SsSNpe5ws8gK"
      },
      "outputs": [],
      "source": [
        "#Check for duplicates rows\n",
        "print(df1.duplicated().sum())\n",
        "df1 = df1.drop_duplicates()"
      ]
    },
    {
      "cell_type": "markdown",
      "metadata": {
        "id": "mtVzDpspM1E-"
      },
      "source": [
        "Data types are checked for effectivity"
      ]
    },
    {
      "cell_type": "code",
      "execution_count": null,
      "metadata": {
        "id": "K_oBtEwFtI5u"
      },
      "outputs": [],
      "source": [
        "#Verify column data types\n",
        "print(df1.dtypes)"
      ]
    },
    {
      "cell_type": "markdown",
      "metadata": {
        "id": "M952IdPxNXnJ"
      },
      "source": [
        "Duplicated rows in the geographic columns are dropped to validate geography consistency, and all other duplicates are generally dropped"
      ]
    },
    {
      "cell_type": "code",
      "execution_count": null,
      "metadata": {
        "id": "AI_oKJWttUHb"
      },
      "outputs": [],
      "source": [
        "#Validate geographic consistency\n",
        "print(df1[['Country/Region', 'Lat', 'Long']].drop_duplicates())"
      ]
    },
    {
      "cell_type": "markdown",
      "metadata": {
        "id": "vYBb9jIPN1zj"
      },
      "source": [
        "Outliers are further checked in numerical columns using the following cell command"
      ]
    },
    {
      "cell_type": "code",
      "execution_count": null,
      "metadata": {
        "colab": {
          "background_save": true
        },
        "id": "OfQnsSJStoTe"
      },
      "outputs": [],
      "source": [
        "#Handle outliers\n",
        "#Check for outliers in numerical columns\n",
        "import seaborn as sns\n",
        "sns.boxplot(data=df1[['Lat', 'Long']])"
      ]
    },
    {
      "cell_type": "markdown",
      "metadata": {
        "id": "BWb59qI5OB2_"
      },
      "source": [
        "Below is a summary of the basic cleaning steps performed to fit the format of the dataset"
      ]
    },
    {
      "cell_type": "code",
      "execution_count": null,
      "metadata": {
        "id": "1fox6DD4uBgU"
      },
      "outputs": [],
      "source": [
        "# Clean Country/Region\n",
        "df1['Country/Region'] = df1['Country/Region'].str.strip().str.title()\n",
        "\n",
        "# Clean Latitude and Longitude\n",
        "df1['Lat'] = pd.to_numeric(df1['Lat'], errors='coerce')\n",
        "df1['Long'] = pd.to_numeric(df1['Long'], errors='coerce')\n",
        "df1 = df1[(df1['Lat'].between(-90, 90)) & (df1['Long'].between(-180, 180))]\n",
        "\n",
        "# Clean Date\n",
        "df1['Date'] = pd.to_datetime(df1['Date'], errors='coerce')\n",
        "df1 = df1.dropna(subset=['Date'])\n",
        "\n",
        "# Clean WHO Region\n",
        "df1['WHO Region'] = df1['WHO Region'].str.strip().str.title()\n",
        "region_mapping = {'Europe': 'European Region'}\n",
        "df1['WHO Region'] = df1['WHO Region'].replace(region_mapping)\n",
        "\n",
        "# Handle Missing Values\n",
        "df1.fillna({'Country/Region': 'Unknown', 'WHO Region': 'Unknown'}, inplace=True)\n",
        "\n",
        "# Remove Duplicates\n",
        "df1 = df1.drop_duplicates()\n",
        "\n",
        "# Verify the cleaned dataset\n",
        "print(df1.info())\n",
        "print(df1.head())"
      ]
    },
    {
      "cell_type": "markdown",
      "metadata": {
        "id": "2mDHnxxqOVRn"
      },
      "source": [
        "Recheck data info to ensure effective handling of missing values and data types"
      ]
    },
    {
      "cell_type": "code",
      "execution_count": null,
      "metadata": {
        "id": "Ruql0IcsCCwr"
      },
      "outputs": [],
      "source": [
        "df1.info()"
      ]
    },
    {
      "cell_type": "markdown",
      "metadata": {
        "id": "W9sXUhFoOjtu"
      },
      "source": [
        "There are columns that need to be renamed, for accuracy. Using the lines of code below the specific columns are renamed and subsequently standardized to ensure consistency"
      ]
    },
    {
      "cell_type": "code",
      "execution_count": null,
      "metadata": {
        "id": "vvDKJyiFnMiT"
      },
      "outputs": [],
      "source": [
        "df1.rename(columns={'Country/Region': 'Country'}, inplace=True)"
      ]
    },
    {
      "cell_type": "code",
      "execution_count": null,
      "metadata": {
        "id": "fy1r2po-o0pb"
      },
      "outputs": [],
      "source": [
        "#To standardize capitalization and remove extra spaces\n",
        "df1['Country'] = df1['Country'].str.strip().str.title()"
      ]
    },
    {
      "cell_type": "markdown",
      "metadata": {
        "id": "GsA9sazgO-0S"
      },
      "source": [
        "The second dataset is uploaded into the notebook and cleaned using similar steps to the ones employed above"
      ]
    },
    {
      "cell_type": "code",
      "execution_count": null,
      "metadata": {
        "id": "yTlxaNQijBwt"
      },
      "outputs": [],
      "source": [
        "df2 = pd.read_csv('/content/drive/MyDrive/Data2/Capstone/Capstone 2/worldometer_data.csv')\n",
        "df2.head(4)"
      ]
    },
    {
      "cell_type": "code",
      "execution_count": null,
      "metadata": {
        "id": "IN6dBYyqmF33"
      },
      "outputs": [],
      "source": [
        "df2.describe()"
      ]
    },
    {
      "cell_type": "code",
      "execution_count": null,
      "metadata": {
        "id": "MXzWdW7QjtBw"
      },
      "outputs": [],
      "source": [
        "df2.isna().sum()"
      ]
    },
    {
      "cell_type": "code",
      "execution_count": null,
      "metadata": {
        "id": "4FUAv57ad_nd"
      },
      "outputs": [],
      "source": [
        "df2.head()"
      ]
    },
    {
      "cell_type": "code",
      "execution_count": null,
      "metadata": {
        "id": "4ysHxX_QlNrk"
      },
      "outputs": [],
      "source": [
        "df2.isnull().sum()"
      ]
    },
    {
      "cell_type": "code",
      "execution_count": null,
      "metadata": {
        "id": "_UY0mUgPlg7J"
      },
      "outputs": [],
      "source": [
        "df2.head()"
      ]
    },
    {
      "cell_type": "code",
      "execution_count": null,
      "metadata": {
        "id": "b9TEqCw6m-PF"
      },
      "outputs": [],
      "source": [
        "df2.duplicated().sum()"
      ]
    },
    {
      "cell_type": "code",
      "execution_count": null,
      "metadata": {
        "id": "nnTUq3ukhFih"
      },
      "outputs": [],
      "source": [
        "df2.head(1)"
      ]
    },
    {
      "cell_type": "code",
      "execution_count": null,
      "metadata": {
        "id": "pxpmPQdsglMu"
      },
      "outputs": [],
      "source": [
        "df2.rename(columns={'TotalCases' : 'Total_Cases', 'NewCases' : 'New_Cases', 'TotalDeaths' : 'Total_Deaths', 'NewDeaths' : 'New_Deaths', 'TotalRecovered' : 'Total_Recovered', 'ActiveCases' : 'Active_Cases', 'Serious,Critical' : 'Serious_Critical', 'TotalTests' : 'Total_Tests'}, inplace=True)"
      ]
    },
    {
      "cell_type": "code",
      "execution_count": null,
      "metadata": {
        "id": "NHb0r7mliV9E"
      },
      "outputs": [],
      "source": [
        "df2.head(2)"
      ]
    },
    {
      "cell_type": "code",
      "execution_count": null,
      "metadata": {
        "id": "09gMLxh7nFT6"
      },
      "outputs": [],
      "source": [
        "df2.info()"
      ]
    },
    {
      "cell_type": "code",
      "execution_count": null,
      "metadata": {
        "id": "i4olb-CLkBxA"
      },
      "outputs": [],
      "source": [
        "df2.drop(columns=['New_Cases', 'Total_Deaths', 'NewRecovered', 'Serious_Critical', 'WHO Region'], inplace=True)"
      ]
    },
    {
      "cell_type": "code",
      "execution_count": null,
      "metadata": {
        "id": "C54EjudFkywJ"
      },
      "outputs": [],
      "source": [
        "df2.drop(columns=['New_Deaths', 'Tot Cases/1M pop', 'Deaths/1M pop', 'Tests/1M pop'], inplace=True)"
      ]
    },
    {
      "cell_type": "code",
      "execution_count": null,
      "metadata": {
        "id": "KOuBgrhJm_nO"
      },
      "outputs": [],
      "source": [
        "df2.rename(columns={'Country/Region': 'Country'}, inplace=True)"
      ]
    },
    {
      "cell_type": "code",
      "execution_count": null,
      "metadata": {
        "id": "MtUdkuORpDag"
      },
      "outputs": [],
      "source": [
        "#standardize capitalizations and remove extra spaces\n",
        "df2['Country'] = df2['Country'].str.strip().str.title()"
      ]
    },
    {
      "cell_type": "code",
      "execution_count": null,
      "metadata": {
        "id": "kKzhZqr4pX6B"
      },
      "outputs": [],
      "source": [
        "#handle missing values\n",
        "\n",
        "df2['Population'] = df2['Population'].fillna(df2['Population'].median())\n",
        "\n",
        "#handle missing values\n",
        "\n",
        "df2['Population'] = df2['Population'].fillna(df2['Population'].median())\n",
        "\n",
        "df2['Total_Cases'] = df2['Total_Cases'].fillna(0)\n",
        "df2['Total_Recovered'] = df2['Total_Recovered'].fillna(0)\n",
        "df2['Active_Cases'] = df2['Active_Cases'].fillna(0)\n",
        "df2['Total_Tests'] = df2['Total_Tests'].fillna(0)"
      ]
    },
    {
      "cell_type": "code",
      "execution_count": null,
      "metadata": {
        "id": "ZHc1R2bprzkY"
      },
      "outputs": [],
      "source": [
        "#remove empty columns\n",
        "df2.dropna(inplace = True)"
      ]
    },
    {
      "cell_type": "code",
      "execution_count": null,
      "metadata": {
        "id": "qTcTAljcro9D"
      },
      "outputs": [],
      "source": [
        "df2.isna().sum()"
      ]
    },
    {
      "cell_type": "code",
      "execution_count": null,
      "metadata": {
        "id": "vtqibngtsar2"
      },
      "outputs": [],
      "source": [
        "#ensure numeric columns are numeric\n",
        "numeric_cols = ['Population', 'Total_Cases', 'Total_Recovered', 'Active_Cases', 'Total_Tests']\n",
        "df2[numeric_cols] = df2[numeric_cols].apply(pd.to_numeric, errors='coerce')\n",
        "\n",
        "# Ensure 'Continent' and 'Country' are strings\n",
        "df2['Continent'] = df2['Continent'].astype(str)\n",
        "df2['Country'] = df2['Country'].astype(str)"
      ]
    },
    {
      "cell_type": "code",
      "execution_count": null,
      "metadata": {
        "id": "PxuEgV5Os4n8"
      },
      "outputs": [],
      "source": [
        "# remove outlier or incorrect data\n",
        "df2 = df2[(df2['Population'] > 0) & (df2['Total_Cases'] >= 0) & (df2['Total_Recovered'] >= 0) & (df2['Active_Cases'] >= 0) & (df2['Total_Tests'] >= 0)]"
      ]
    },
    {
      "cell_type": "code",
      "execution_count": null,
      "metadata": {
        "id": "gsfxdNckuQfS"
      },
      "outputs": [],
      "source": [
        "#check for duplicates rows\n",
        "df2.drop_duplicates()\n",
        "df2.duplicated().sum()"
      ]
    },
    {
      "cell_type": "code",
      "execution_count": null,
      "metadata": {
        "id": "VojySYbIuoYE"
      },
      "outputs": [],
      "source": [
        "#feature engineering\n",
        "# to enrich your dataset drive new features\n",
        "\n",
        "#case per population\n",
        "df2['Cases_Per_Population'] = df2['Total_Cases'] / df2['Population']\n",
        "\n",
        "#recovery rate\n",
        "df2['Recovery_Rate'] = df2['Total_Recovered'] / df2['Total_Cases']\n",
        "\n",
        "#Active cases ratio\n",
        "df2['Active_Cases_Ratio'] = df2['Active_Cases'] / df2['Total_Cases']"
      ]
    },
    {
      "cell_type": "code",
      "execution_count": null,
      "metadata": {
        "id": "-T3k_URQZSFv"
      },
      "outputs": [],
      "source": [
        "#using unique to verify\n",
        "print(df2['Country'].unique())\n",
        "\n",
        "#crosschecking the first dataset to ensure consistency\n",
        "print(df1['Country'].unique())"
      ]
    },
    {
      "cell_type": "code",
      "execution_count": null,
      "metadata": {
        "id": "3KafXjEaa0J_"
      },
      "outputs": [],
      "source": [
        "#check with the second dataset\n",
        "print(df2['Country'].unique())"
      ]
    },
    {
      "cell_type": "code",
      "execution_count": null,
      "metadata": {
        "id": "4Vm_jUWfbSrI"
      },
      "outputs": [],
      "source": [
        "country_mapping = {\n",
        "    'United States': 'USA',\n",
        "    'United Kingdom': 'UK',\n",
        "    # Add other mappings as necessary\n",
        "}\n",
        "df1['Country'] = df1['Country'].replace(country_mapping)"
      ]
    },
    {
      "cell_type": "code",
      "execution_count": null,
      "metadata": {
        "id": "P6MMYyfebe-H"
      },
      "outputs": [],
      "source": [
        "\n",
        "country_mapping = {\n",
        "    'United States': 'USA',\n",
        "    'United Kingdom': 'UK',\n",
        "    # Add other mappings as necessary\n",
        "}\n",
        "df2['Country'] = df2['Country'].replace(country_mapping)"
      ]
    },
    {
      "cell_type": "code",
      "execution_count": null,
      "metadata": {
        "id": "oMFLhHdsbkS4"
      },
      "outputs": [],
      "source": [
        "#merge datasets\n",
        "merged_df = pd.merge(df1, df2, on='Country', how='inner')  # Use 'outer' if you want all rows"
      ]
    },
    {
      "cell_type": "code",
      "execution_count": null,
      "metadata": {
        "id": "JY1l1zHBcYDA"
      },
      "outputs": [],
      "source": [
        "#verify duplicates\n",
        "print(merged_df.duplicated().sum())"
      ]
    },
    {
      "cell_type": "code",
      "execution_count": null,
      "metadata": {
        "id": "8ICYr-xzcj_3"
      },
      "outputs": [],
      "source": [
        "#columns have correct data types\n",
        "print(merged_df.info())"
      ]
    },
    {
      "cell_type": "code",
      "execution_count": null,
      "metadata": {
        "id": "0x0embbfc51v"
      },
      "outputs": [],
      "source": [
        "merged_df.head()"
      ]
    },
    {
      "cell_type": "code",
      "execution_count": null,
      "metadata": {
        "id": "ORIHxyNfdJrH"
      },
      "outputs": [],
      "source": [
        "#save cleaned dataset\n",
        "merged_df.to_csv('cleaned_covid_data.csv', index=False)"
      ]
    },
    {
      "cell_type": "markdown",
      "metadata": {
        "id": "Mg0puJA3dk36"
      },
      "source": [
        "#Summary of Steps\n",
        "\n",
        "Ensure column name uniformity.\n",
        "\n",
        "Handle missing values and invalid entries.\n",
        "\n",
        "Validate and correct data types.\n",
        "\n",
        "Remove outliers and duplicates.\n",
        "\n",
        "Create derived features (optional).\n",
        "\n",
        "Merge datasets carefully.\n",
        "\n",
        "Save the cleaned dataset for analysis."
      ]
    },
    {
      "cell_type": "markdown",
      "metadata": {
        "id": "o7LuiYfoX3o8"
      },
      "source": [
        "The merged dataset is assigned a new variable 'proc' and re-downloaded into the notebook"
      ]
    },
    {
      "cell_type": "code",
      "execution_count": null,
      "metadata": {
        "colab": {
          "base_uri": "https://localhost:8080/",
          "height": 167
        },
        "id": "Yb7s61xGPuRp",
        "outputId": "e57ab958-c346-413f-c174-666425bfe973"
      },
      "outputs": [
        {
          "output_type": "execute_result",
          "data": {
            "text/plain": [
              "       Country       Lat       Long        Date             WHO Region  \\\n",
              "0  Afghanistan  33.93911  67.709953  2020-01-22  Eastern Mediterranean   \n",
              "1      Albania  41.15330  20.168300  2020-01-22        European Region   \n",
              "\n",
              "  Continent  Population  Total_Cases  Total_Recovered  Active_Cases  \\\n",
              "0      Asia  39009447.0        36896          25840.0        9758.0   \n",
              "1    Europe   2877470.0         6016           3155.0        2673.0   \n",
              "\n",
              "   Total_Tests  Cases_Per_Population  Recovery_Rate  Active_Cases_Ratio  \n",
              "0      90396.0              0.000946       0.700347            0.264473  \n",
              "1      38997.0              0.002091       0.524435            0.444315  "
            ],
            "text/html": [
              "\n",
              "  <div id=\"df-e77c1711-b300-46a6-905d-4f4a7d003e97\" class=\"colab-df-container\">\n",
              "    <div>\n",
              "<style scoped>\n",
              "    .dataframe tbody tr th:only-of-type {\n",
              "        vertical-align: middle;\n",
              "    }\n",
              "\n",
              "    .dataframe tbody tr th {\n",
              "        vertical-align: top;\n",
              "    }\n",
              "\n",
              "    .dataframe thead th {\n",
              "        text-align: right;\n",
              "    }\n",
              "</style>\n",
              "<table border=\"1\" class=\"dataframe\">\n",
              "  <thead>\n",
              "    <tr style=\"text-align: right;\">\n",
              "      <th></th>\n",
              "      <th>Country</th>\n",
              "      <th>Lat</th>\n",
              "      <th>Long</th>\n",
              "      <th>Date</th>\n",
              "      <th>WHO Region</th>\n",
              "      <th>Continent</th>\n",
              "      <th>Population</th>\n",
              "      <th>Total_Cases</th>\n",
              "      <th>Total_Recovered</th>\n",
              "      <th>Active_Cases</th>\n",
              "      <th>Total_Tests</th>\n",
              "      <th>Cases_Per_Population</th>\n",
              "      <th>Recovery_Rate</th>\n",
              "      <th>Active_Cases_Ratio</th>\n",
              "    </tr>\n",
              "  </thead>\n",
              "  <tbody>\n",
              "    <tr>\n",
              "      <th>0</th>\n",
              "      <td>Afghanistan</td>\n",
              "      <td>33.93911</td>\n",
              "      <td>67.709953</td>\n",
              "      <td>2020-01-22</td>\n",
              "      <td>Eastern Mediterranean</td>\n",
              "      <td>Asia</td>\n",
              "      <td>39009447.0</td>\n",
              "      <td>36896</td>\n",
              "      <td>25840.0</td>\n",
              "      <td>9758.0</td>\n",
              "      <td>90396.0</td>\n",
              "      <td>0.000946</td>\n",
              "      <td>0.700347</td>\n",
              "      <td>0.264473</td>\n",
              "    </tr>\n",
              "    <tr>\n",
              "      <th>1</th>\n",
              "      <td>Albania</td>\n",
              "      <td>41.15330</td>\n",
              "      <td>20.168300</td>\n",
              "      <td>2020-01-22</td>\n",
              "      <td>European Region</td>\n",
              "      <td>Europe</td>\n",
              "      <td>2877470.0</td>\n",
              "      <td>6016</td>\n",
              "      <td>3155.0</td>\n",
              "      <td>2673.0</td>\n",
              "      <td>38997.0</td>\n",
              "      <td>0.002091</td>\n",
              "      <td>0.524435</td>\n",
              "      <td>0.444315</td>\n",
              "    </tr>\n",
              "  </tbody>\n",
              "</table>\n",
              "</div>\n",
              "    <div class=\"colab-df-buttons\">\n",
              "\n",
              "  <div class=\"colab-df-container\">\n",
              "    <button class=\"colab-df-convert\" onclick=\"convertToInteractive('df-e77c1711-b300-46a6-905d-4f4a7d003e97')\"\n",
              "            title=\"Convert this dataframe to an interactive table.\"\n",
              "            style=\"display:none;\">\n",
              "\n",
              "  <svg xmlns=\"http://www.w3.org/2000/svg\" height=\"24px\" viewBox=\"0 -960 960 960\">\n",
              "    <path d=\"M120-120v-720h720v720H120Zm60-500h600v-160H180v160Zm220 220h160v-160H400v160Zm0 220h160v-160H400v160ZM180-400h160v-160H180v160Zm440 0h160v-160H620v160ZM180-180h160v-160H180v160Zm440 0h160v-160H620v160Z\"/>\n",
              "  </svg>\n",
              "    </button>\n",
              "\n",
              "  <style>\n",
              "    .colab-df-container {\n",
              "      display:flex;\n",
              "      gap: 12px;\n",
              "    }\n",
              "\n",
              "    .colab-df-convert {\n",
              "      background-color: #E8F0FE;\n",
              "      border: none;\n",
              "      border-radius: 50%;\n",
              "      cursor: pointer;\n",
              "      display: none;\n",
              "      fill: #1967D2;\n",
              "      height: 32px;\n",
              "      padding: 0 0 0 0;\n",
              "      width: 32px;\n",
              "    }\n",
              "\n",
              "    .colab-df-convert:hover {\n",
              "      background-color: #E2EBFA;\n",
              "      box-shadow: 0px 1px 2px rgba(60, 64, 67, 0.3), 0px 1px 3px 1px rgba(60, 64, 67, 0.15);\n",
              "      fill: #174EA6;\n",
              "    }\n",
              "\n",
              "    .colab-df-buttons div {\n",
              "      margin-bottom: 4px;\n",
              "    }\n",
              "\n",
              "    [theme=dark] .colab-df-convert {\n",
              "      background-color: #3B4455;\n",
              "      fill: #D2E3FC;\n",
              "    }\n",
              "\n",
              "    [theme=dark] .colab-df-convert:hover {\n",
              "      background-color: #434B5C;\n",
              "      box-shadow: 0px 1px 3px 1px rgba(0, 0, 0, 0.15);\n",
              "      filter: drop-shadow(0px 1px 2px rgba(0, 0, 0, 0.3));\n",
              "      fill: #FFFFFF;\n",
              "    }\n",
              "  </style>\n",
              "\n",
              "    <script>\n",
              "      const buttonEl =\n",
              "        document.querySelector('#df-e77c1711-b300-46a6-905d-4f4a7d003e97 button.colab-df-convert');\n",
              "      buttonEl.style.display =\n",
              "        google.colab.kernel.accessAllowed ? 'block' : 'none';\n",
              "\n",
              "      async function convertToInteractive(key) {\n",
              "        const element = document.querySelector('#df-e77c1711-b300-46a6-905d-4f4a7d003e97');\n",
              "        const dataTable =\n",
              "          await google.colab.kernel.invokeFunction('convertToInteractive',\n",
              "                                                    [key], {});\n",
              "        if (!dataTable) return;\n",
              "\n",
              "        const docLinkHtml = 'Like what you see? Visit the ' +\n",
              "          '<a target=\"_blank\" href=https://colab.research.google.com/notebooks/data_table.ipynb>data table notebook</a>'\n",
              "          + ' to learn more about interactive tables.';\n",
              "        element.innerHTML = '';\n",
              "        dataTable['output_type'] = 'display_data';\n",
              "        await google.colab.output.renderOutput(dataTable, element);\n",
              "        const docLink = document.createElement('div');\n",
              "        docLink.innerHTML = docLinkHtml;\n",
              "        element.appendChild(docLink);\n",
              "      }\n",
              "    </script>\n",
              "  </div>\n",
              "\n",
              "\n",
              "<div id=\"df-cfe420ca-05d1-40b8-8689-228833981679\">\n",
              "  <button class=\"colab-df-quickchart\" onclick=\"quickchart('df-cfe420ca-05d1-40b8-8689-228833981679')\"\n",
              "            title=\"Suggest charts\"\n",
              "            style=\"display:none;\">\n",
              "\n",
              "<svg xmlns=\"http://www.w3.org/2000/svg\" height=\"24px\"viewBox=\"0 0 24 24\"\n",
              "     width=\"24px\">\n",
              "    <g>\n",
              "        <path d=\"M19 3H5c-1.1 0-2 .9-2 2v14c0 1.1.9 2 2 2h14c1.1 0 2-.9 2-2V5c0-1.1-.9-2-2-2zM9 17H7v-7h2v7zm4 0h-2V7h2v10zm4 0h-2v-4h2v4z\"/>\n",
              "    </g>\n",
              "</svg>\n",
              "  </button>\n",
              "\n",
              "<style>\n",
              "  .colab-df-quickchart {\n",
              "      --bg-color: #E8F0FE;\n",
              "      --fill-color: #1967D2;\n",
              "      --hover-bg-color: #E2EBFA;\n",
              "      --hover-fill-color: #174EA6;\n",
              "      --disabled-fill-color: #AAA;\n",
              "      --disabled-bg-color: #DDD;\n",
              "  }\n",
              "\n",
              "  [theme=dark] .colab-df-quickchart {\n",
              "      --bg-color: #3B4455;\n",
              "      --fill-color: #D2E3FC;\n",
              "      --hover-bg-color: #434B5C;\n",
              "      --hover-fill-color: #FFFFFF;\n",
              "      --disabled-bg-color: #3B4455;\n",
              "      --disabled-fill-color: #666;\n",
              "  }\n",
              "\n",
              "  .colab-df-quickchart {\n",
              "    background-color: var(--bg-color);\n",
              "    border: none;\n",
              "    border-radius: 50%;\n",
              "    cursor: pointer;\n",
              "    display: none;\n",
              "    fill: var(--fill-color);\n",
              "    height: 32px;\n",
              "    padding: 0;\n",
              "    width: 32px;\n",
              "  }\n",
              "\n",
              "  .colab-df-quickchart:hover {\n",
              "    background-color: var(--hover-bg-color);\n",
              "    box-shadow: 0 1px 2px rgba(60, 64, 67, 0.3), 0 1px 3px 1px rgba(60, 64, 67, 0.15);\n",
              "    fill: var(--button-hover-fill-color);\n",
              "  }\n",
              "\n",
              "  .colab-df-quickchart-complete:disabled,\n",
              "  .colab-df-quickchart-complete:disabled:hover {\n",
              "    background-color: var(--disabled-bg-color);\n",
              "    fill: var(--disabled-fill-color);\n",
              "    box-shadow: none;\n",
              "  }\n",
              "\n",
              "  .colab-df-spinner {\n",
              "    border: 2px solid var(--fill-color);\n",
              "    border-color: transparent;\n",
              "    border-bottom-color: var(--fill-color);\n",
              "    animation:\n",
              "      spin 1s steps(1) infinite;\n",
              "  }\n",
              "\n",
              "  @keyframes spin {\n",
              "    0% {\n",
              "      border-color: transparent;\n",
              "      border-bottom-color: var(--fill-color);\n",
              "      border-left-color: var(--fill-color);\n",
              "    }\n",
              "    20% {\n",
              "      border-color: transparent;\n",
              "      border-left-color: var(--fill-color);\n",
              "      border-top-color: var(--fill-color);\n",
              "    }\n",
              "    30% {\n",
              "      border-color: transparent;\n",
              "      border-left-color: var(--fill-color);\n",
              "      border-top-color: var(--fill-color);\n",
              "      border-right-color: var(--fill-color);\n",
              "    }\n",
              "    40% {\n",
              "      border-color: transparent;\n",
              "      border-right-color: var(--fill-color);\n",
              "      border-top-color: var(--fill-color);\n",
              "    }\n",
              "    60% {\n",
              "      border-color: transparent;\n",
              "      border-right-color: var(--fill-color);\n",
              "    }\n",
              "    80% {\n",
              "      border-color: transparent;\n",
              "      border-right-color: var(--fill-color);\n",
              "      border-bottom-color: var(--fill-color);\n",
              "    }\n",
              "    90% {\n",
              "      border-color: transparent;\n",
              "      border-bottom-color: var(--fill-color);\n",
              "    }\n",
              "  }\n",
              "</style>\n",
              "\n",
              "  <script>\n",
              "    async function quickchart(key) {\n",
              "      const quickchartButtonEl =\n",
              "        document.querySelector('#' + key + ' button');\n",
              "      quickchartButtonEl.disabled = true;  // To prevent multiple clicks.\n",
              "      quickchartButtonEl.classList.add('colab-df-spinner');\n",
              "      try {\n",
              "        const charts = await google.colab.kernel.invokeFunction(\n",
              "            'suggestCharts', [key], {});\n",
              "      } catch (error) {\n",
              "        console.error('Error during call to suggestCharts:', error);\n",
              "      }\n",
              "      quickchartButtonEl.classList.remove('colab-df-spinner');\n",
              "      quickchartButtonEl.classList.add('colab-df-quickchart-complete');\n",
              "    }\n",
              "    (() => {\n",
              "      let quickchartButtonEl =\n",
              "        document.querySelector('#df-cfe420ca-05d1-40b8-8689-228833981679 button');\n",
              "      quickchartButtonEl.style.display =\n",
              "        google.colab.kernel.accessAllowed ? 'block' : 'none';\n",
              "    })();\n",
              "  </script>\n",
              "</div>\n",
              "\n",
              "    </div>\n",
              "  </div>\n"
            ],
            "application/vnd.google.colaboratory.intrinsic+json": {
              "type": "dataframe",
              "variable_name": "proc",
              "summary": "{\n  \"name\": \"proc\",\n  \"rows\": 38352,\n  \"fields\": [\n    {\n      \"column\": \"Country\",\n      \"properties\": {\n        \"dtype\": \"category\",\n        \"num_unique_values\": 172,\n        \"samples\": [\n          \"Kenya\",\n          \"Togo\",\n          \"Mozambique\"\n        ],\n        \"semantic_type\": \"\",\n        \"description\": \"\"\n      }\n    },\n    {\n      \"column\": \"Lat\",\n      \"properties\": {\n        \"dtype\": \"number\",\n        \"std\": 26.54342525255199,\n        \"min\": -42.8821,\n        \"max\": 71.7069,\n        \"num_unique_values\": 203,\n        \"samples\": [\n          -31.9505,\n          -33.8688,\n          -20.348404\n        ],\n        \"semantic_type\": \"\",\n        \"description\": \"\"\n      }\n    },\n    {\n      \"column\": \"Long\",\n      \"properties\": {\n        \"dtype\": \"number\",\n        \"std\": 66.4357379229342,\n        \"min\": -135.0,\n        \"max\": 178.065,\n        \"num_unique_values\": 204,\n        \"samples\": [\n          115.8605,\n          151.2093,\n          -10.9408\n        ],\n        \"semantic_type\": \"\",\n        \"description\": \"\"\n      }\n    },\n    {\n      \"column\": \"Date\",\n      \"properties\": {\n        \"dtype\": \"object\",\n        \"num_unique_values\": 188,\n        \"samples\": [\n          \"2020-07-23\",\n          \"2020-07-02\",\n          \"2020-02-09\"\n        ],\n        \"semantic_type\": \"\",\n        \"description\": \"\"\n      }\n    },\n    {\n      \"column\": \"WHO Region\",\n      \"properties\": {\n        \"dtype\": \"category\",\n        \"num_unique_values\": 6,\n        \"samples\": [\n          \"Eastern Mediterranean\",\n          \"European Region\",\n          \"South-East Asia\"\n        ],\n        \"semantic_type\": \"\",\n        \"description\": \"\"\n      }\n    },\n    {\n      \"column\": \"Continent\",\n      \"properties\": {\n        \"dtype\": \"category\",\n        \"num_unique_values\": 6,\n        \"samples\": [\n          \"Asia\",\n          \"Europe\",\n          \"Australia/Oceania\"\n        ],\n        \"semantic_type\": \"\",\n        \"description\": \"\"\n      }\n    },\n    {\n      \"column\": \"Population\",\n      \"properties\": {\n        \"dtype\": \"number\",\n        \"std\": 102950470.59131654,\n        \"min\": 33938.0,\n        \"max\": 1381344997.0,\n        \"num_unique_values\": 172,\n        \"samples\": [\n          53881160.0,\n          8296582.0,\n          31333962.0\n        ],\n        \"semantic_type\": \"\",\n        \"description\": \"\"\n      }\n    },\n    {\n      \"column\": \"Total_Cases\",\n      \"properties\": {\n        \"dtype\": \"number\",\n        \"std\": 265199,\n        \"min\": 10,\n        \"max\": 2917562,\n        \"num_unique_values\": 171,\n        \"samples\": [\n          3902,\n          215210,\n          39642\n        ],\n        \"semantic_type\": \"\",\n        \"description\": \"\"\n      }\n    },\n    {\n      \"column\": \"Total_Recovered\",\n      \"properties\": {\n        \"dtype\": \"number\",\n        \"std\": 185985.64313818663,\n        \"min\": 0.0,\n        \"max\": 2047660.0,\n        \"num_unique_values\": 167,\n        \"samples\": [\n          2913.0,\n          45658.0,\n          30099.0\n        ],\n        \"semantic_type\": \"\",\n        \"description\": \"\"\n      }\n    },\n    {\n      \"column\": \"Active_Cases\",\n      \"properties\": {\n        \"dtype\": \"number\",\n        \"std\": 73432.04742152146,\n        \"min\": 0.0,\n        \"max\": 771258.0,\n        \"num_unique_values\": 156,\n        \"samples\": [\n          866.0,\n          12694.0,\n          1204.0\n        ],\n        \"semantic_type\": \"\",\n        \"description\": \"\"\n      }\n    },\n    {\n      \"column\": \"Total_Tests\",\n      \"properties\": {\n        \"dtype\": \"number\",\n        \"std\": 3115753.7395689217,\n        \"min\": 0.0,\n        \"max\": 29716907.0,\n        \"num_unique_values\": 158,\n        \"samples\": [\n          822764.0,\n          468814.0,\n          288367.0\n        ],\n        \"semantic_type\": \"\",\n        \"description\": \"\"\n      }\n    },\n    {\n      \"column\": \"Cases_Per_Population\",\n      \"properties\": {\n        \"dtype\": \"number\",\n        \"std\": 0.0047147034003642025,\n        \"min\": 2.745084582918712e-06,\n        \"max\": 0.0399215757504527,\n        \"num_unique_values\": 172,\n        \"samples\": [\n          0.0004530526068852,\n          0.0001219779422417,\n          6.765821698513581e-05\n        ],\n        \"semantic_type\": \"\",\n        \"description\": \"\"\n      }\n    },\n    {\n      \"column\": \"Recovery_Rate\",\n      \"properties\": {\n        \"dtype\": \"number\",\n        \"std\": 0.2438325811962568,\n        \"min\": 0.0,\n        \"max\": 1.0,\n        \"num_unique_values\": 168,\n        \"samples\": [\n          0.6428571428571429,\n          0.9277199451279212,\n          0.96\n        ],\n        \"semantic_type\": \"\",\n        \"description\": \"\"\n      }\n    },\n    {\n      \"column\": \"Active_Cases_Ratio\",\n      \"properties\": {\n        \"dtype\": \"number\",\n        \"std\": 0.21385723902258505,\n        \"min\": 0.0,\n        \"max\": 0.9191542288557214,\n        \"num_unique_values\": 164,\n        \"samples\": [\n          0.0460287020841674,\n          0.4017053529133112,\n          0.0372372372372372\n        ],\n        \"semantic_type\": \"\",\n        \"description\": \"\"\n      }\n    }\n  ]\n}"
            }
          },
          "metadata": {},
          "execution_count": 82
        }
      ],
      "source": [
        "proc = pd.read_csv('/content/cleaned_covid_data.csv')\n",
        "proc.head(2)"
      ]
    },
    {
      "cell_type": "markdown",
      "metadata": {
        "id": "xsxky1h-Xfcn"
      },
      "source": [
        "#EDA\n",
        "Pie plots to discover the ratios of total cases, total recovered,  and active cases across selected WHO Regions"
      ]
    },
    {
      "cell_type": "markdown",
      "metadata": {
        "id": "xAlLNjegYpz_"
      },
      "source": [
        "A heat map is plotted to further study and visualize missing values across columns"
      ]
    },
    {
      "cell_type": "code",
      "execution_count": null,
      "metadata": {
        "id": "Vjt6az89NIG2"
      },
      "outputs": [],
      "source": [
        "# Checking for missing values\n",
        "plt.figure(figsize=(8, 4))\n",
        "sns.heatmap(df.isnull(), cbar=False, cmap='viridis', yticklabels=df['WHO Region'], annot=False)\n",
        "plt.title('Heatmap of Missing Values', fontsize=16)\n",
        "plt.show()"
      ]
    },
    {
      "cell_type": "code",
      "execution_count": null,
      "metadata": {
        "id": "qE1tviE33G-k"
      },
      "outputs": [],
      "source": [
        "#regional insights / analysis\n",
        "region_stats = proc.groupby('WHO Region')[['Total_Cases', 'Active_Cases', 'Total_Recovered']].mean()\n",
        "print(region_stats)"
      ]
    },
    {
      "cell_type": "code",
      "execution_count": null,
      "metadata": {
        "id": "4X2U218TKSTc"
      },
      "outputs": [],
      "source": [
        "import pandas as pd\n",
        "import matplotlib.pyplot as plt\n",
        "\n",
        "# Sample data\n",
        "data = {\n",
        "    'WHO Region': ['Africa', 'Europe', 'Americas', 'Eastern Mediterranean', 'Southeast Asia', 'Western Pacific'],\n",
        "    'Total_Cases': [18698.272727, 80261.522388, 152833.795455, 76531.150000, 269615.777778, 19381.950000],\n",
        "    'Total_Recovered': [13231.931818, 43057.029851, 109479.250000, 63872.400000, 180085.888889, 12130.000000],\n",
        "    'Active_Cases': [5121.750000, 20832.940299, 36071.590909, 10562.250000, 83905.666667, 6981.600000]\n",
        "}\n",
        "\n",
        "df = pd.DataFrame(data)\n",
        "\n",
        "# Normalize values to percentages for Total Cases\n",
        "df['Total_Cases_Percent'] = (df['Total_Cases'] / df['Total_Cases'].sum()) * 100\n",
        "df['Total_Cases_Percent'] = df['Total_Cases_Percent'].round(1)\n",
        "\n",
        "# Combine small regions into \"Others\" if their contribution is < 5%\n",
        "threshold = 5\n",
        "df['Category'] = df.apply(\n",
        "    lambda row: row['WHO Region'] if row['Total_Cases_Percent'] >= threshold else 'Others', axis=1\n",
        ")\n",
        "df_grouped = df.groupby('Category').sum().reset_index()\n",
        "\n",
        "# Plot Total Cases as a pie chart\n",
        "plt.figure(figsize=(10, 7))\n",
        "colors = ['#FF9999', '#66B2FF', '#99FF99', '#FFCC99', '#C299FF', '#FF99FF']\n",
        "plt.pie(df_grouped['Total_Cases_Percent'], labels=df_grouped['Category'], autopct='%1.1f%%', startangle=140, colors=colors, explode=[0.05]*len(df_grouped))\n",
        "plt.title('Distribution of Total Cases by WHO Region', fontsize=16)\n",
        "plt.axis('equal')\n",
        "plt.show()"
      ]
    },
    {
      "cell_type": "code",
      "execution_count": null,
      "metadata": {
        "id": "XzZZA7gwLM4L"
      },
      "outputs": [],
      "source": [
        "#distribution of total recovered\n",
        "# Sample data\n",
        "data = {\n",
        "    'WHO Region': ['Africa', 'Europe', 'Americas', 'Eastern Mediterranean', 'Southeast Asia', 'Western Pacific'],\n",
        "    'Total_Recovered': [13231.931818, 43057.029851, 109479.250000, 63872.400000, 180085.888889, 12130.000000]\n",
        "}\n",
        "\n",
        "df = pd.DataFrame(data)\n",
        "\n",
        "# Normalize Total Recovered to percentages\n",
        "df['Total_Recovered_Percent'] = (df['Total_Recovered'] / df['Total_Recovered'].sum()) * 100\n",
        "df['Total_Recovered_Percent'] = df['Total_Recovered_Percent'].round(1)\n",
        "\n",
        "# Group smaller regions into \"Others\" if contribution is less than 5%\n",
        "threshold = 5\n",
        "df['Category'] = df.apply(\n",
        "    lambda row: row['WHO Region'] if row['Total_Recovered_Percent'] >= threshold else 'Others', axis=1\n",
        ")\n",
        "df_grouped = df.groupby('Category')['Total_Recovered_Percent'].sum().reset_index()\n",
        "\n",
        "# Plotting the pie chart\n",
        "plt.figure(figsize=(10, 7))\n",
        "colors = ['#FFA07A', '#20B2AA', '#778899', '#FF6347', '#4682B4', '#DAA520']\n",
        "plt.pie(\n",
        "    df_grouped['Total_Recovered_Percent'],\n",
        "    labels=df_grouped['Category'],\n",
        "    autopct='%1.1f%%',\n",
        "    startangle=140,\n",
        "    colors=colors,\n",
        "    explode=[0.05] * len(df_grouped)\n",
        ")\n",
        "plt.title('Distribution of Total Recovered by WHO Region', fontsize=16)\n",
        "plt.axis('equal')\n",
        "plt.show()"
      ]
    },
    {
      "cell_type": "code",
      "execution_count": null,
      "metadata": {
        "id": "W_a1x9ZmLnsb"
      },
      "outputs": [],
      "source": [
        "#pie distribution of active cases by WHO Region\n",
        "# Sample data\n",
        "data = {\n",
        "    'WHO Region': ['Africa', 'Europe', 'Americas', 'Eastern Mediterranean', 'Southeast Asia', 'Western Pacific'],\n",
        "    'Active_Cases': [5121.750000, 20832.940299, 36071.590909, 10562.250000, 83905.666667, 6981.600000]\n",
        "}\n",
        "\n",
        "df = pd.DataFrame(data)\n",
        "\n",
        "# Normalize Active Cases to percentages\n",
        "df['Active_Cases_Percent'] = (df['Active_Cases'] / df['Active_Cases'].sum()) * 100\n",
        "df['Active_Cases_Percent'] = df['Active_Cases_Percent'].round(1)\n",
        "\n",
        "# Group smaller regions into \"Others\" if contribution is less than 5%\n",
        "threshold = 5\n",
        "df['Category'] = df.apply(\n",
        "    lambda row: row['WHO Region'] if row['Active_Cases_Percent'] >= threshold else 'Others', axis=1\n",
        ")\n",
        "df_grouped = df.groupby('Category')['Active_Cases_Percent'].sum().reset_index()\n",
        "\n",
        "# Plotting the pie chart\n",
        "plt.figure(figsize=(10, 7))\n",
        "colors = ['#FFD700', '#87CEEB', '#FF69B4', '#98FB98', '#FF4500', '#D8BFD8']\n",
        "plt.pie(\n",
        "    df_grouped['Active_Cases_Percent'],\n",
        "    labels=df_grouped['Category'],\n",
        "    autopct='%1.1f%%',\n",
        "    startangle=140,\n",
        "    colors=colors,\n",
        "    explode=[0.05] * len(df_grouped)\n",
        ")\n",
        "plt.title('Distribution of Active Cases by WHO Region', fontsize=16)\n",
        "plt.axis('equal')\n",
        "plt.show()"
      ]
    },
    {
      "cell_type": "markdown",
      "metadata": {
        "id": "FLNYnwRyY-4K"
      },
      "source": [
        "The data is fractionated and converted into a dataframe for clear plotting of bar charts.\n",
        "The bar charts have similar pattern as the previous pie plots"
      ]
    },
    {
      "cell_type": "code",
      "execution_count": null,
      "metadata": {
        "id": "Jaasnt1_NDaF"
      },
      "outputs": [],
      "source": [
        "\n",
        "# Provided data\n",
        "data = proc #{\n",
        "   # 'WHO Region': ['Africa', 'Europe', 'Americas', 'Eastern Mediterranean', 'Southeast Asia', 'Western Pacific'],\n",
        "   # 'Total_Cases': [18698.272727, 80261.522388, 152833.795455, 76531.150000, 269615.777778, 19381.950000],\n",
        "   # 'Total_Recovered': [13231.931818, 43057.029851, 109479.250000, 63872.400000, 180085.888889, 12130.000000],\n",
        "   # 'Active_Cases': [5121.750000, 20832.940299, 36071.590909, 10562.250000, 83905.666667, 6981.600000]\n",
        "#}\n",
        "\n",
        "df = pd.DataFrame(data)\n",
        "\n",
        "# Display the DataFrame\n",
        "print(\"Dataset:\")\n",
        "print(df)"
      ]
    },
    {
      "cell_type": "code",
      "execution_count": null,
      "metadata": {
        "id": "fZS0jr8iNP8m"
      },
      "outputs": [],
      "source": [
        "# Summary of missing values\n",
        "missing_summary = df.isnull().sum()\n",
        "print(\"Missing Values Summary:\")\n",
        "print(missing_summary)"
      ]
    },
    {
      "cell_type": "code",
      "execution_count": null,
      "metadata": {
        "id": "C2kblRXFNlTx"
      },
      "outputs": [],
      "source": [
        "#total cases by WHO Region bar plot\n",
        "plt.figure(figsize=(8, 5))\n",
        "sns.barplot(data=df, x='WHO Region', y='Total_Cases', palette='Blues')\n",
        "plt.title('Total Cases by WHO Region', fontsize=16)\n",
        "plt.xticks(rotation=45)\n",
        "plt.ylabel('Total Cases')\n",
        "plt.xlabel('WHO Region')\n",
        "plt.show()"
      ]
    },
    {
      "cell_type": "code",
      "execution_count": null,
      "metadata": {
        "id": "wcg1_k5_IxFz"
      },
      "outputs": [],
      "source": [
        "#active cases by WHO Region bar plot\n",
        "plt.figure(figsize=(8, 5))\n",
        "sns.barplot(data=df, x='WHO Region', y='Active_Cases', palette='Blues')\n",
        "plt.title('Active Cases by WHO Region', fontsize=16)\n",
        "plt.xticks(rotation=45)\n",
        "plt.ylabel('Active Cases')\n",
        "plt.xlabel('WHO Region')\n",
        "plt.show()"
      ]
    },
    {
      "cell_type": "code",
      "execution_count": null,
      "metadata": {
        "id": "uBfEzx-iJCTd"
      },
      "outputs": [],
      "source": [
        "\n",
        "#total records by WHO Region bar plot\n",
        "plt.figure(figsize=(8, 5))\n",
        "sns.barplot(data=df, x='WHO Region', y='Total_Recovered', palette='Blues')\n",
        "plt.title('Total Recovered by WHO Region', fontsize=16)\n",
        "plt.xticks(rotation=45)\n",
        "plt.ylabel('Total Recovered')\n",
        "plt.xlabel('WHO Region')\n",
        "plt.show()"
      ]
    },
    {
      "cell_type": "code",
      "execution_count": null,
      "metadata": {
        "colab": {
          "background_save": true
        },
        "id": "YOfCNvR3Nqt3"
      },
      "outputs": [],
      "source": [
        "#comparison of Total Cases, Recovered, and Active Cases\n",
        "df.set_index('WHO Region')[['Total_Cases', 'Total_Recovered', 'Active_Cases']].plot(kind='bar', figsize=(10, 6), stacked=True)\n",
        "plt.title('Comparison of Cases by WHO Region', fontsize=16)\n",
        "plt.ylabel('Count')\n",
        "plt.xticks(rotation=45)\n",
        "plt.legend(title='Case Type')\n",
        "plt.show()"
      ]
    },
    {
      "cell_type": "code",
      "execution_count": null,
      "metadata": {
        "id": "_eJOqjbDLt7-"
      },
      "outputs": [],
      "source": [
        "#visualizing demographic and environmental factors\n",
        "import seaborn as sns\n",
        "import matplotlib.pyplot as plt\n",
        "\n",
        "# Grouping by continent and summing up the total cases\n",
        "continent_case = df.groupby('Continent')['Total_Cases'].sum().sort_values(ascending=False)\n",
        "\n",
        "plt.figure(figsize=(10, 6))\n",
        "sns.barplot(x=continent_case.index, y=continent_case.values, palette=\"viridis\")\n",
        "plt.title('Total COVID-19 Cases by Continent')\n",
        "plt.ylabel('Total Cases')\n",
        "plt.xlabel('Continent')\n",
        "plt.xticks(rotation=45)\n",
        "plt.show()"
      ]
    },
    {
      "cell_type": "code",
      "execution_count": null,
      "metadata": {
        "colab": {
          "base_uri": "https://localhost:8080/"
        },
        "id": "BltGW-6-VhIH",
        "outputId": "0764a4ef-d514-4b78-b6a2-c59b0b96b676"
      },
      "outputs": [
        {
          "name": "stdout",
          "output_type": "stream",
          "text": [
            "Available columns: Index(['WHO Region', 'Total_Cases', 'Total_Recovered', 'Active_Cases'], dtype='object')\n"
          ]
        }
      ],
      "source": [
        "import seaborn as sns\n",
        "import matplotlib.pyplot as plt\n",
        "\n",
        "# Check if 'Continent' column exists, otherwise use the correct name\n",
        "if 'Continent' not in df.columns:\n",
        "    # If 'continent' is the correct column name (case insensitive)\n",
        "    if 'continent' in df.columns.str.lower():\n",
        "        df.rename(columns={'continent': 'Continent'}, inplace=True)  # Rename to 'Continent'\n",
        "    # Otherwise, check if similar column name and rename or adjust the code accordingly\n",
        "    else:\n",
        "        print(f\"Available columns: {df.columns}\")"
      ]
    },
    {
      "cell_type": "markdown",
      "metadata": {
        "id": "Bk6p1NtrZdz0"
      },
      "source": [
        "I faced some challenge earlier while using the continent column for visualizing demographic and environmental factors. The code below was ran to ensure the existence of the column before re running the defective cells again"
      ]
    },
    {
      "cell_type": "code",
      "execution_count": null,
      "metadata": {
        "id": "ip8Lyk5OVnYU"
      },
      "outputs": [],
      "source": [
        "df.head(2)"
      ]
    },
    {
      "cell_type": "markdown",
      "metadata": {
        "id": "-nYoR9YkZ5EL"
      },
      "source": [
        "A heat map plot to visualize correlation between four categories"
      ]
    },
    {
      "cell_type": "code",
      "execution_count": null,
      "metadata": {
        "id": "6UaPvtIYLxSk"
      },
      "outputs": [],
      "source": [
        "#heatmap for correlation\n",
        "plt.figure(figsize=(12, 8))\n",
        "corr = df[['Population', 'Total_Cases', 'Total_Recovered', 'Active_Cases', 'Total_Tests']].corr()\n",
        "sns.heatmap(corr, annot=True, cmap='coolwarm', fmt='.2f')\n",
        "plt.title('Correlation Heatmap')\n",
        "plt.show()"
      ]
    },
    {
      "cell_type": "code",
      "execution_count": null,
      "metadata": {
        "id": "ODqPOkD1N4Pg"
      },
      "outputs": [],
      "source": [
        "#recovery rate and active case ratio\n",
        "# Add Recovery Rate and Active Case Ratio\n",
        "df['Recovery_Rate'] = (df['Total_Recovered'] / df['Total_Cases']) * 100\n",
        "df['Active_Case_Ratio'] = (df['Active_Cases'] / df['Total_Cases']) * 100\n",
        "\n",
        "print(df)"
      ]
    },
    {
      "cell_type": "code",
      "execution_count": null,
      "metadata": {
        "id": "nGH36KD_u4W2"
      },
      "outputs": [],
      "source": [
        "proc.head(2)"
      ]
    },
    {
      "cell_type": "code",
      "execution_count": null,
      "metadata": {
        "id": "JcDe6rkaa2lf"
      },
      "outputs": [],
      "source": [
        "\n",
        "# Check for zero values in each column\n",
        "zero_counts = (proc == 0).sum()\n",
        "print(zero_counts)"
      ]
    },
    {
      "cell_type": "code",
      "execution_count": null,
      "metadata": {
        "id": "wr8DzTjvbuRa"
      },
      "outputs": [],
      "source": [
        "#turn out some columns are filled with zero values\n",
        "#replace zeros with mean\n",
        "for col in ['Total_Recovered']:\n",
        "    proc['Total_Recovered'] = proc['Total_Recovered'].replace(0, proc[col].median())\n",
        "for col in ['Active_Cases']:\n",
        "    proc['Active_Cases'] = proc['Active_Cases'].replace(0, proc[col].median())\n",
        "for col in ['Total_Tests']:\n",
        "    proc['Total_Tests'] = proc['Total_Tests'].replace(0, proc[col].median())"
      ]
    },
    {
      "cell_type": "code",
      "execution_count": null,
      "metadata": {
        "id": "bV2rneCbdkh9"
      },
      "outputs": [],
      "source": [
        "# recheck for zero values in each column\n",
        "zero_counts = (proc == 0).sum()\n",
        "print(zero_counts)"
      ]
    },
    {
      "cell_type": "markdown",
      "metadata": {
        "id": "eudFbw3EaJo4"
      },
      "source": [
        "Dropped more recurring unwanted columns"
      ]
    },
    {
      "cell_type": "code",
      "execution_count": null,
      "metadata": {
        "id": "XBejOvyqie8l"
      },
      "outputs": [],
      "source": [
        "proc.drop(columns=['Months_Since_Start', 'Total_Recovered_was_zero', 'Active_Cases_was_zero', 'Total_Tests_was_zero'], inplace=True)"
      ]
    },
    {
      "cell_type": "code",
      "execution_count": null,
      "metadata": {
        "id": "Klv85XLpf4bS"
      },
      "outputs": [],
      "source": [
        "\n",
        "# Inspect the dataset\n",
        "print(proc.info())\n",
        "print(proc.describe())\n",
        "print(proc.head())\n",
        "\n",
        "# Check for missing values\n",
        "missing_counts = proc.isnull().sum()\n",
        "print(\"Missing values per column:\\n\", missing_counts)"
      ]
    },
    {
      "cell_type": "code",
      "execution_count": null,
      "metadata": {
        "id": "ES-RGdSAbPa4"
      },
      "outputs": [],
      "source": [
        "# Verify descriptive statistics\n",
        "print(proc.describe())"
      ]
    },
    {
      "cell_type": "markdown",
      "metadata": {
        "id": "I4Q9HE-KaTYb"
      },
      "source": [
        "#Predictive Modelling\n",
        "Scikit-learn is employed in developing the model. However both classification and models gave some issues even after a series of manipulations. Therefore, SVC is used together classification report to classify the models into actual and predicted"
      ]
    },
    {
      "cell_type": "code",
      "execution_count": null,
      "metadata": {
        "id": "gqFzicepcCRn"
      },
      "outputs": [],
      "source": [
        "!pip install scikit-learn pandas\n",
        "import pandas as pd\n",
        "from sklearn.model_selection import train_test_split\n",
        "from sklearn.svm import SVC\n",
        "from sklearn.metrics import classification_report, accuracy_score\n",
        "from sklearn.preprocessing import StandardScaler, OneHotEncoder\n",
        "from sklearn.compose import ColumnTransformer\n",
        "from sklearn.pipeline import Pipeline\n",
        "\n",
        "# 1. Assigning variable to DataFrame called 'data'\n",
        "dataset = proc.copy()\n",
        "\n",
        "# 2. Define the target variable (adjust threshold as needed)\n",
        "# to predict high total cases (> 100000)\n",
        "dataset['label'] = (dataset['Total_Cases'] > 100000).astype(int)\n",
        "\n",
        "# 3. Select features\n",
        "numerical_features = ['Total_Cases', 'Active_Cases', 'Total_Recovered']\n",
        "categorical_features = ['WHO Region', 'Country', 'Continent']\n",
        "all_features = numerical_features + categorical_features\n",
        "X = dataset[all_features]\n",
        "y = dataset['label']\n",
        "\n",
        "# 4. Create preprocessing pipeline\n",
        "# a. One-hot encoding for categorical features\n",
        "# b. Standard scaling for numerical features\n",
        "preprocessor = ColumnTransformer(\n",
        "    transformers=[\n",
        "        ('num', StandardScaler(), numerical_features),\n",
        "        ('cat', OneHotEncoder(handle_unknown='ignore'), categorical_features),\n",
        "    ])\n",
        "\n",
        "# 5. Create a pipeline with preprocessing and model\n",
        "model = Pipeline(steps=[\n",
        "    ('preprocessor', preprocessor),\n",
        "    ('classifier', SVC(C=1.0, kernel='rbf'))\n",
        "])\n",
        "\n",
        "# 6. Split data\n",
        "X_train, X_test, y_train, y_test = train_test_split(X, y, test_size=0.25, random_state=42)\n",
        "\n",
        "# 7. Train the model\n",
        "model.fit(X_train, y_train)\n",
        "\n",
        "# 8. Predict and evaluate\n",
        "y_pred = model.predict(X_test)\n",
        "print(\"Accuracy:\", accuracy_score(y_test, y_pred))\n",
        "print(\"\\nClassification Report:\\n\", classification_report(y_test, y_pred))"
      ]
    },
    {
      "cell_type": "markdown",
      "metadata": {
        "id": "pRkv1IoGbCFJ"
      },
      "source": [
        "Models performance upon testing with accuracy score showed 100% accuracy, however r-squared, rme and f-score showed high level of error upon assessment"
      ]
    }
  ],
  "metadata": {
    "colab": {
      "provenance": [],
      "mount_file_id": "1oCJFBD6Qu43wDas9F787AlYCSYXQBJZq",
      "authorship_tag": "ABX9TyOBEkQLXsjatgBP6eV6895W"
    },
    "kernelspec": {
      "display_name": "Python 3",
      "name": "python3"
    },
    "language_info": {
      "name": "python"
    }
  },
  "nbformat": 4,
  "nbformat_minor": 0
}